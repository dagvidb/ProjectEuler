{
 "cells": [
  {
   "cell_type": "markdown",
   "id": "a4c96129",
   "metadata": {},
   "source": [
    "# Project Euler - Problem 14 - Longest Collatz sequence"
   ]
  },
  {
   "cell_type": "markdown",
   "id": "fc665865",
   "metadata": {},
   "source": [
    "## Problem description\n",
    "\n",
    "The following iterative sequence is defined for the set of positive integers:\n",
    "\n",
    "$$ n \\to n/2,~~ \\text{$n$ is even} $$\n",
    "$$ n \\to 3n + 1, ~~ \\text{$n$ is odd} $$\n",
    "\n",
    "Using the rule above and starting with 13, we generate the following sequence:\n",
    "\n",
    "$$ 13 \\to 40 \\to 20 \\to 10 \\to 5 \\to 16 \\to 8 \\to 4 \\to 2 \\to 1 $$\n",
    "\n",
    "It can be seen that this sequence (starting at 13 and finishing at 1) contains 10 terms. Although it has not been proved yet (Collatz Problem), it is thought that all starting numbers finish at 1.\n",
    "\n",
    "Which starting number, under one million, produces the longest chain?\n",
    "\n",
    "NOTE: Once the chain starts the terms are allowed to go above one million."
   ]
  },
  {
   "cell_type": "markdown",
   "id": "d55711dc",
   "metadata": {},
   "source": [
    "## Solution:\n",
    "\n",
    "We first construct the generating function $f: \\mathbb{N} \\to \\mathbb{N}$\n",
    "\n",
    "$$ f(n) = \\begin{cases} n/2,~~~~~~~~~~ \\text{$n$ even} \\\\ 3n + 1,~~~~\\text{$n$ odd}  \\end{cases} $$"
   ]
  },
  {
   "cell_type": "code",
   "execution_count": 1,
   "id": "f12f4a8a",
   "metadata": {},
   "outputs": [],
   "source": [
    "def Collatz(n):\n",
    "    if n != int(n):\n",
    "        return 'input is not an integer'\n",
    "    if n % 2 == 0:\n",
    "        return int(n/2)\n",
    "    if n % 2 == 1:\n",
    "        return int(3*n+1)"
   ]
  },
  {
   "cell_type": "markdown",
   "id": "3de531cc",
   "metadata": {},
   "source": [
    "Now we store the Collatz chain in a list"
   ]
  },
  {
   "cell_type": "code",
   "execution_count": 2,
   "id": "b574b085",
   "metadata": {},
   "outputs": [],
   "source": [
    "def Collatz_sequence(n):\n",
    "    sequence = [n]\n",
    "    i = 0\n",
    "    temp = Collatz(n)\n",
    "    while temp > 1:\n",
    "        sequence.append(temp)\n",
    "        temp = Collatz(temp)\n",
    "    sequence.append(temp)\n",
    "    return sequence    "
   ]
  },
  {
   "cell_type": "markdown",
   "id": "3e091d0c",
   "metadata": {},
   "source": [
    "Picking out the longest chain and its location"
   ]
  },
  {
   "cell_type": "code",
   "execution_count": 4,
   "id": "7afd8fec",
   "metadata": {},
   "outputs": [],
   "source": [
    "max_len = 0\n",
    "for i in range(10**6):\n",
    "    if max_len < len(Collatz_sequence(i)):\n",
    "        max_len = len(Collatz_sequence(i))\n",
    "        max_loc = i\n",
    "# print('max length=', max_len, 'max_loc=', max_loc)"
   ]
  },
  {
   "cell_type": "code",
   "execution_count": null,
   "id": "db6cf640",
   "metadata": {},
   "outputs": [],
   "source": []
  },
  {
   "cell_type": "code",
   "execution_count": null,
   "id": "1af60649",
   "metadata": {},
   "outputs": [],
   "source": []
  },
  {
   "cell_type": "code",
   "execution_count": null,
   "id": "8fd06074",
   "metadata": {},
   "outputs": [],
   "source": []
  }
 ],
 "metadata": {
  "kernelspec": {
   "display_name": "Python 3 (ipykernel)",
   "language": "python",
   "name": "python3"
  },
  "language_info": {
   "codemirror_mode": {
    "name": "ipython",
    "version": 3
   },
   "file_extension": ".py",
   "mimetype": "text/x-python",
   "name": "python",
   "nbconvert_exporter": "python",
   "pygments_lexer": "ipython3",
   "version": "3.8.8"
  }
 },
 "nbformat": 4,
 "nbformat_minor": 5
}
